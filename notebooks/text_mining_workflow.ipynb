{
 "cells": [
  {
   "cell_type": "markdown",
   "metadata": {},
   "source": [
    "# Workflow for text analysis from PDF\n",
    "\n",
    "Formalizing the workflow from various projects into a workflow that can be applied to various texts, including longer form documents from PDF."
   ]
  },
  {
   "cell_type": "markdown",
   "metadata": {},
   "source": [
    "<a target=\"_blank\" href=\"https://colab.research.google.com/github/arielsaffer/pest-text-pipeline/blob/main/notebooks/text_mining_workflow.ipynb\">\n",
    "  <img src=\"https://colab.research.google.com/assets/colab-badge.svg\" alt=\"Open In Colab\"/>\n",
    "</a>"
   ]
  },
  {
   "cell_type": "code",
   "execution_count": null,
   "metadata": {},
   "outputs": [],
   "source": [
    "# Google Colab setup\n",
    "\n",
    "from google.colab import drive\n",
    "drive.mount('/content/drive')"
   ]
  },
  {
   "cell_type": "markdown",
   "metadata": {},
   "source": [
    "## Steps\n",
    "\n",
    "1. Extract text from PDF.\n",
    "2. Determine how documents are divided (e.g., chapter, page, paragraph, sentence)\n",
    "3. Apply exploratory text analysis: topic modeling (LDA), keyword search (regex)\n",
    "4. Machine learning to select for topics about presence.\n",
    "5. Geoparsing to extract locations from presence records."
   ]
  },
  {
   "cell_type": "code",
   "execution_count": 1,
   "metadata": {},
   "outputs": [],
   "source": [
    "# Import general libraries\n",
    "\n",
    "import pandas as pd\n",
    "import os\n",
    "import glob\n",
    "\n",
    "# OCR\n",
    "\n",
    "import pytesseract\n",
    "\n",
    "pd.set_option('display.max_colwidth', 100)"
   ]
  },
  {
   "cell_type": "code",
   "execution_count": 2,
   "metadata": {},
   "outputs": [],
   "source": [
    "os.chdir(\"..\")\n",
    "# This should be the path of the tesseract installation\n",
    "pytesseract.pytesseract.tesseract_cmd = r'C:\\Program Files\\Tesseract-OCR\\tesseract'"
   ]
  },
  {
   "cell_type": "markdown",
   "metadata": {},
   "source": [
    "### 1. Extract text from PDF (scans)\n",
    "\n",
    "### 2. Determine how documents are divided\n",
    "\n",
    "Set the division to page, paragraph, or sentence."
   ]
  },
  {
   "cell_type": "code",
   "execution_count": 51,
   "metadata": {},
   "outputs": [],
   "source": [
    "pdf_path = r\"data\\DowleyBook6.19.24.pdf\"\n",
    "language = 'eng'\n",
    "document_level = \"paragraph\" # \"page\", \"paragraph\", or \"sentence\""
   ]
  },
  {
   "cell_type": "code",
   "execution_count": null,
   "metadata": {},
   "outputs": [],
   "source": [
    "from text_analysis.data_functions import pdf_to_corpus\n",
    "\n",
    "text_corpus = pdf_to_corpus(pdf_path, language, document_level)"
   ]
  },
  {
   "cell_type": "markdown",
   "metadata": {},
   "source": [
    "### 3. Apply exploratory text analysis: topic modeling (LDA), keyword search (regex)"
   ]
  },
  {
   "cell_type": "markdown",
   "metadata": {},
   "source": [
    "#### LDA"
   ]
  },
  {
   "cell_type": "code",
   "execution_count": 55,
   "metadata": {},
   "outputs": [],
   "source": [
    "from text_analysis.data_functions import text_to_topics"
   ]
  },
  {
   "cell_type": "code",
   "execution_count": 58,
   "metadata": {},
   "outputs": [],
   "source": [
    "text_corpus = pd.Series(text_corpus)"
   ]
  },
  {
   "cell_type": "code",
   "execution_count": 59,
   "metadata": {},
   "outputs": [
    {
     "name": "stdout",
     "output_type": "stream",
     "text": [
      "Text data preprocessed (tokenized, lowercased, stopwords removed).\n",
      "\n",
      "\n",
      "Topic Model Training...\n",
      "\n",
      "\n",
      "Iteration: 0\tLog-likelihood: -9.347740383133466\n",
      "Iteration: 1\tLog-likelihood: -9.060880276318592\n",
      "Iteration: 2\tLog-likelihood: -8.932297997150279\n",
      "Iteration: 3\tLog-likelihood: -8.862250716003233\n",
      "Iteration: 4\tLog-likelihood: -8.809935294084484\n",
      "Iteration: 5\tLog-likelihood: -8.772942098421428\n",
      "Iteration: 6\tLog-likelihood: -8.75029810112901\n",
      "Iteration: 7\tLog-likelihood: -8.726211430604836\n",
      "Iteration: 8\tLog-likelihood: -8.703085268561262\n",
      "Iteration: 9\tLog-likelihood: -8.68506839065715\n",
      "Top 10 words for each topic extracted.\n"
     ]
    }
   ],
   "source": [
    "topic_table = text_to_topics(text_corpus, iterations=10, num_topics=10)\n",
    "# 10 iterations here just for texting, should be higher in practice"
   ]
  },
  {
   "cell_type": "code",
   "execution_count": 60,
   "metadata": {},
   "outputs": [
    {
     "data": {
      "text/html": [
       "<div>\n",
       "<style scoped>\n",
       "    .dataframe tbody tr th:only-of-type {\n",
       "        vertical-align: middle;\n",
       "    }\n",
       "\n",
       "    .dataframe tbody tr th {\n",
       "        vertical-align: top;\n",
       "    }\n",
       "\n",
       "    .dataframe thead th {\n",
       "        text-align: right;\n",
       "    }\n",
       "</style>\n",
       "<table border=\"1\" class=\"dataframe\">\n",
       "  <thead>\n",
       "    <tr style=\"text-align: right;\">\n",
       "      <th></th>\n",
       "      <th>Topic Number</th>\n",
       "      <th>Top Words</th>\n",
       "    </tr>\n",
       "  </thead>\n",
       "  <tbody>\n",
       "    <tr>\n",
       "      <th>0</th>\n",
       "      <td>0</td>\n",
       "      <td>[diseased, tubers, sound, potato, found, disease, potatoes, crop, parts, healthy]</td>\n",
       "    </tr>\n",
       "    <tr>\n",
       "      <th>1</th>\n",
       "      <td>1</td>\n",
       "      <td>[may, thus, potato, plant, place, long, early, reason, late, vegetable]</td>\n",
       "    </tr>\n",
       "    <tr>\n",
       "      <th>2</th>\n",
       "      <td>2</td>\n",
       "      <td>[upon, oo, price, c, country, made, already, would, high, carried]</td>\n",
       "    </tr>\n",
       "    <tr>\n",
       "      <th>3</th>\n",
       "      <td>3</td>\n",
       "      <td>[potatoes, seed, may, crop, produce, best, planting, potato, quantity, much]</td>\n",
       "    </tr>\n",
       "    <tr>\n",
       "      <th>4</th>\n",
       "      <td>4</td>\n",
       "      <td>[upon, also, present, meeting, would, general, council, state, purpose, best]</td>\n",
       "    </tr>\n",
       "    <tr>\n",
       "      <th>5</th>\n",
       "      <td>5</td>\n",
       "      <td>[would, could, much, many, mr, must, done, might, least, cannot]</td>\n",
       "    </tr>\n",
       "    <tr>\n",
       "      <th>6</th>\n",
       "      <td>6</td>\n",
       "      <td>[mr, shall, many, time, given, first, subject, far, yet, attention]</td>\n",
       "    </tr>\n",
       "    <tr>\n",
       "      <th>7</th>\n",
       "      <td>7</td>\n",
       "      <td>[potato, farmers, disease, crop, page, potatoes, november, last, 1845, failure]</td>\n",
       "    </tr>\n",
       "    <tr>\n",
       "      <th>8</th>\n",
       "      <td>8</td>\n",
       "      <td>[would, think, one, could, bad, part, might, good, great, state]</td>\n",
       "    </tr>\n",
       "    <tr>\n",
       "      <th>9</th>\n",
       "      <td>9</td>\n",
       "      <td>[much, may, subject, system, upon, practical, great, feel, give, means]</td>\n",
       "    </tr>\n",
       "    <tr>\n",
       "      <th>10</th>\n",
       "      <td>10</td>\n",
       "      <td>[dry, ground, put, potatoes, inches, manure, drills, earth, two, planted]</td>\n",
       "    </tr>\n",
       "    <tr>\n",
       "      <th>11</th>\n",
       "      <td>11</td>\n",
       "      <td>[works, public, government, employment, food, land, proprietors, must, people, poor]</td>\n",
       "    </tr>\n",
       "    <tr>\n",
       "      <th>12</th>\n",
       "      <td>12</td>\n",
       "      <td>[last, seed, year, first, potatoes, one, every, disease, field, planted]</td>\n",
       "    </tr>\n",
       "    <tr>\n",
       "      <th>13</th>\n",
       "      <td>13</td>\n",
       "      <td>[food, country, great, may, people, means, present, use, make, whose]</td>\n",
       "    </tr>\n",
       "    <tr>\n",
       "      <th>14</th>\n",
       "      <td>14</td>\n",
       "      <td>[per, land, acres, acre, produce, average, cwt, tons, landlord, irish]</td>\n",
       "    </tr>\n",
       "    <tr>\n",
       "      <th>15</th>\n",
       "      <td>15</td>\n",
       "      <td>[potato, cause, many, disease, appears, certain, less, doubt, ireland, one]</td>\n",
       "    </tr>\n",
       "    <tr>\n",
       "      <th>16</th>\n",
       "      <td>16</td>\n",
       "      <td>[john, society, sir, agricultural, j, royal, mr, thomas, lord, ireland]</td>\n",
       "    </tr>\n",
       "    <tr>\n",
       "      <th>17</th>\n",
       "      <td>17</td>\n",
       "      <td>[may, every, us, let, would, far, without, better, present, little]</td>\n",
       "    </tr>\n",
       "    <tr>\n",
       "      <th>18</th>\n",
       "      <td>18</td>\n",
       "      <td>[starch, water, may, made, process, upon, flour, much, large, dried]</td>\n",
       "    </tr>\n",
       "    <tr>\n",
       "      <th>19</th>\n",
       "      <td>19</td>\n",
       "      <td>[one, two, potatoes, three, time, last, planted, set, first, half]</td>\n",
       "    </tr>\n",
       "  </tbody>\n",
       "</table>\n",
       "</div>"
      ],
      "text/plain": [
       "    Topic Number  \\\n",
       "0              0   \n",
       "1              1   \n",
       "2              2   \n",
       "3              3   \n",
       "4              4   \n",
       "5              5   \n",
       "6              6   \n",
       "7              7   \n",
       "8              8   \n",
       "9              9   \n",
       "10            10   \n",
       "11            11   \n",
       "12            12   \n",
       "13            13   \n",
       "14            14   \n",
       "15            15   \n",
       "16            16   \n",
       "17            17   \n",
       "18            18   \n",
       "19            19   \n",
       "\n",
       "                                                                               Top Words  \n",
       "0      [diseased, tubers, sound, potato, found, disease, potatoes, crop, parts, healthy]  \n",
       "1                [may, thus, potato, plant, place, long, early, reason, late, vegetable]  \n",
       "2                     [upon, oo, price, c, country, made, already, would, high, carried]  \n",
       "3           [potatoes, seed, may, crop, produce, best, planting, potato, quantity, much]  \n",
       "4          [upon, also, present, meeting, would, general, council, state, purpose, best]  \n",
       "5                       [would, could, much, many, mr, must, done, might, least, cannot]  \n",
       "6                    [mr, shall, many, time, given, first, subject, far, yet, attention]  \n",
       "7        [potato, farmers, disease, crop, page, potatoes, november, last, 1845, failure]  \n",
       "8                       [would, think, one, could, bad, part, might, good, great, state]  \n",
       "9                [much, may, subject, system, upon, practical, great, feel, give, means]  \n",
       "10             [dry, ground, put, potatoes, inches, manure, drills, earth, two, planted]  \n",
       "11  [works, public, government, employment, food, land, proprietors, must, people, poor]  \n",
       "12              [last, seed, year, first, potatoes, one, every, disease, field, planted]  \n",
       "13                 [food, country, great, may, people, means, present, use, make, whose]  \n",
       "14                [per, land, acres, acre, produce, average, cwt, tons, landlord, irish]  \n",
       "15           [potato, cause, many, disease, appears, certain, less, doubt, ireland, one]  \n",
       "16               [john, society, sir, agricultural, j, royal, mr, thomas, lord, ireland]  \n",
       "17                   [may, every, us, let, would, far, without, better, present, little]  \n",
       "18                  [starch, water, may, made, process, upon, flour, much, large, dried]  \n",
       "19                    [one, two, potatoes, three, time, last, planted, set, first, half]  "
      ]
     },
     "execution_count": 60,
     "metadata": {},
     "output_type": "execute_result"
    }
   ],
   "source": [
    "# Look at the topics\n",
    "topic_table\n"
   ]
  },
  {
   "cell_type": "markdown",
   "metadata": {},
   "source": [
    "#### Keyword search"
   ]
  },
  {
   "cell_type": "code",
   "execution_count": 61,
   "metadata": {},
   "outputs": [],
   "source": [
    "from text_analysis.data_functions import keyword_search"
   ]
  },
  {
   "cell_type": "code",
   "execution_count": 62,
   "metadata": {},
   "outputs": [],
   "source": [
    "keywords_of_interest = [\"famine\", \"hunger\", \"hungry\", \"shortage\", \"starv\"]"
   ]
  },
  {
   "cell_type": "code",
   "execution_count": 63,
   "metadata": {},
   "outputs": [
    {
     "data": {
      "text/html": [
       "<div>\n",
       "<style scoped>\n",
       "    .dataframe tbody tr th:only-of-type {\n",
       "        vertical-align: middle;\n",
       "    }\n",
       "\n",
       "    .dataframe tbody tr th {\n",
       "        vertical-align: top;\n",
       "    }\n",
       "\n",
       "    .dataframe thead th {\n",
       "        text-align: right;\n",
       "    }\n",
       "</style>\n",
       "<table border=\"1\" class=\"dataframe\">\n",
       "  <thead>\n",
       "    <tr style=\"text-align: right;\">\n",
       "      <th></th>\n",
       "      <th>Text</th>\n",
       "      <th>Keywords Found</th>\n",
       "    </tr>\n",
       "  </thead>\n",
       "  <tbody>\n",
       "    <tr>\n",
       "      <th>11</th>\n",
       "      <td>In the potato, the main diseases prior to the famine were potato leaf roll virus (Curl), black-...</td>\n",
       "      <td>True</td>\n",
       "    </tr>\n",
       "    <tr>\n",
       "      <th>15</th>\n",
       "      <td>In the period leading up to the famine the main disease referred to in the Gazette appeared to ...</td>\n",
       "      <td>True</td>\n",
       "    </tr>\n",
       "    <tr>\n",
       "      <th>228</th>\n",
       "      <td>A tour of the area around Kilberry Cross, near Navan, in August 1980 reminded me very much of wh...</td>\n",
       "      <td>True</td>\n",
       "    </tr>\n",
       "    <tr>\n",
       "      <th>295</th>\n",
       "      <td>It is quite certain that starch, or materials corresponding to it, exist to _ acertain amount in...</td>\n",
       "      <td>True</td>\n",
       "    </tr>\n",
       "    <tr>\n",
       "      <th>407</th>\n",
       "      <td>It may be as a result of this criticism that their utterances on the potato problem seemed to di...</td>\n",
       "      <td>True</td>\n",
       "    </tr>\n",
       "    <tr>\n",
       "      <th>...</th>\n",
       "      <td>...</td>\n",
       "      <td>...</td>\n",
       "    </tr>\n",
       "    <tr>\n",
       "      <th>8105</th>\n",
       "      <td>The conference covered all aspects of research on Phytophthora infestans, including the scientif...</td>\n",
       "      <td>True</td>\n",
       "    </tr>\n",
       "    <tr>\n",
       "      <th>8110</th>\n",
       "      <td>What was the Farmers Gazette?  The Farmers Gazette and Journal of Practical Horticulture was an...</td>\n",
       "      <td>True</td>\n",
       "    </tr>\n",
       "    <tr>\n",
       "      <th>8113</th>\n",
       "      <td>Given the absence of modern means of communication at the time of the famine, it is extraordinar...</td>\n",
       "      <td>True</td>\n",
       "    </tr>\n",
       "    <tr>\n",
       "      <th>8204</th>\n",
       "      <td>Potatoes being their all, their sole subsistence—if they fail, the people look in terror to a fa...</td>\n",
       "      <td>True</td>\n",
       "    </tr>\n",
       "    <tr>\n",
       "      <th>8237</th>\n",
       "      <td>As to the first, | can only say, the labour is con- siderable; but, if it affords even a chance ...</td>\n",
       "      <td>True</td>\n",
       "    </tr>\n",
       "  </tbody>\n",
       "</table>\n",
       "<p>106 rows × 2 columns</p>\n",
       "</div>"
      ],
      "text/plain": [
       "                                                                                                     Text  \\\n",
       "11     In the potato, the main diseases prior to the famine were potato leaf roll virus (Curl), black-...   \n",
       "15     In the period leading up to the famine the main disease referred to in the Gazette appeared to ...   \n",
       "228   A tour of the area around Kilberry Cross, near Navan, in August 1980 reminded me very much of wh...   \n",
       "295   It is quite certain that starch, or materials corresponding to it, exist to _ acertain amount in...   \n",
       "407   It may be as a result of this criticism that their utterances on the potato problem seemed to di...   \n",
       "...                                                                                                   ...   \n",
       "8105  The conference covered all aspects of research on Phytophthora infestans, including the scientif...   \n",
       "8110   What was the Farmers Gazette?  The Farmers Gazette and Journal of Practical Horticulture was an...   \n",
       "8113  Given the absence of modern means of communication at the time of the famine, it is extraordinar...   \n",
       "8204  Potatoes being their all, their sole subsistence—if they fail, the people look in terror to a fa...   \n",
       "8237  As to the first, | can only say, the labour is con- siderable; but, if it affords even a chance ...   \n",
       "\n",
       "      Keywords Found  \n",
       "11              True  \n",
       "15              True  \n",
       "228             True  \n",
       "295             True  \n",
       "407             True  \n",
       "...              ...  \n",
       "8105            True  \n",
       "8110            True  \n",
       "8113            True  \n",
       "8204            True  \n",
       "8237            True  \n",
       "\n",
       "[106 rows x 2 columns]"
      ]
     },
     "execution_count": 63,
     "metadata": {},
     "output_type": "execute_result"
    }
   ],
   "source": [
    "# Search for the keywords\n",
    "\n",
    "keyword_search(text_corpus, keywords_of_interest)"
   ]
  }
 ],
 "metadata": {
  "kernelspec": {
   "display_name": "NLP",
   "language": "python",
   "name": "python3"
  },
  "language_info": {
   "codemirror_mode": {
    "name": "ipython",
    "version": 3
   },
   "file_extension": ".py",
   "mimetype": "text/x-python",
   "name": "python",
   "nbconvert_exporter": "python",
   "pygments_lexer": "ipython3",
   "version": "3.10.9"
  }
 },
 "nbformat": 4,
 "nbformat_minor": 2
}
