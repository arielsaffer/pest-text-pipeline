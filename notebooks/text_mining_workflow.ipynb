{
 "cells": [
  {
   "cell_type": "markdown",
   "metadata": {},
   "source": [
    "# Workflow for text analysis from PDF\n",
    "\n",
    "Formalizing the workflow from various projects into a workflow that can be applied to various texts, including longer form documents from PDF."
   ]
  },
  {
   "cell_type": "markdown",
   "metadata": {},
   "source": [
    "## Steps\n",
    "\n",
    "1. Extract text from PDF.\n",
    "2. Determine how documents are divided (e.g., chapter, page, paragraph, sentence)\n",
    "3. Apply exploratory text analysis: topic modeling (LDA), keyword search (regex)\n",
    "4. Machine learning to select for topics about presence.\n",
    "5. Geoparsing to extract locations from presence records."
   ]
  },
  {
   "cell_type": "code",
   "execution_count": 3,
   "metadata": {},
   "outputs": [],
   "source": [
    "# Import general libraries\n",
    "\n",
    "import numpy as np\n",
    "import pandas as pd\n",
    "import os\n",
    "import sys\n",
    "import unicodedata\n",
    "\n",
    "pd.set_option('display.max_colwidth', 100)"
   ]
  },
  {
   "cell_type": "code",
   "execution_count": null,
   "metadata": {},
   "outputs": [],
   "source": [
    "# Go back one directory\n",
    "\n",
    "os.chdir(\"..\")"
   ]
  },
  {
   "cell_type": "markdown",
   "metadata": {},
   "source": [
    "### 1. Extract text from PDF (scans)\n",
    "\n",
    "This will require OCR - various steps."
   ]
  },
  {
   "cell_type": "code",
   "execution_count": null,
   "metadata": {},
   "outputs": [],
   "source": []
  },
  {
   "cell_type": "markdown",
   "metadata": {},
   "source": [
    "### 2. Determine how documents are divided\n",
    "\n",
    "Set the division to page, paragraph, or sentence."
   ]
  },
  {
   "cell_type": "code",
   "execution_count": null,
   "metadata": {},
   "outputs": [],
   "source": []
  },
  {
   "cell_type": "code",
   "execution_count": null,
   "metadata": {},
   "outputs": [],
   "source": [
    "# For now, use the Tweets as the data source\n",
    "text_corpus = pd.read_csv(\"data/bw/bw_clean.csv\", usecols=[\"Snippet\", \"Page Type\", \"Engagement Type\", \"Language\"])\n",
    "\n",
    "# Keep only original Tweets in English\n",
    "text_corpus = text_corpus[text_corpus[\"Language\"] == \"en\"]\n",
    "text_corpus = text_corpus[text_corpus[\"Page Type\"] == \"twitter\"]\n",
    "text_corpus = text_corpus[text_corpus[\"Engagement Type\"] != \"RETWEET\"]\n",
    "text_corpus = text_corpus.drop(columns=[\"Language\", \"Page Type\", \"Engagement Type\"]).reset_index(drop=True).Snippet"
   ]
  },
  {
   "cell_type": "markdown",
   "metadata": {},
   "source": [
    "### 3. Apply exploratory text analysis: topic modeling (LDA), keyword search (regex)"
   ]
  },
  {
   "cell_type": "markdown",
   "metadata": {},
   "source": [
    "#### LDA"
   ]
  },
  {
   "cell_type": "code",
   "execution_count": 3,
   "metadata": {},
   "outputs": [],
   "source": [
    "from text_analysis.data_functions import text_to_topics, preprocess_text, model_topics, get_topics"
   ]
  },
  {
   "cell_type": "code",
   "execution_count": 13,
   "metadata": {},
   "outputs": [
    {
     "name": "stdout",
     "output_type": "stream",
     "text": [
      "Text data preprocessed (tokenized, lowercased, stopwords removed).\n",
      "\n",
      "\n",
      "Topic Model Training...\n",
      "\n",
      "\n",
      "Iteration: 0\tLog-likelihood: -6.304393730652546\n",
      "Iteration: 1\tLog-likelihood: -5.8098289345721135\n",
      "Iteration: 2\tLog-likelihood: -5.614641522053729\n",
      "Iteration: 3\tLog-likelihood: -5.513694763050845\n",
      "Iteration: 4\tLog-likelihood: -5.447391061854338\n",
      "Iteration: 5\tLog-likelihood: -5.408710166864365\n",
      "Iteration: 6\tLog-likelihood: -5.382227972967669\n",
      "Iteration: 7\tLog-likelihood: -5.361475161185057\n",
      "Iteration: 8\tLog-likelihood: -5.344765056319163\n",
      "Iteration: 9\tLog-likelihood: -5.339349165916599\n"
     ]
    }
   ],
   "source": [
    "topic_table = text_to_topics(text_corpus)"
   ]
  },
  {
   "cell_type": "code",
   "execution_count": 15,
   "metadata": {},
   "outputs": [
    {
     "data": {
      "text/html": [
       "<div>\n",
       "<style scoped>\n",
       "    .dataframe tbody tr th:only-of-type {\n",
       "        vertical-align: middle;\n",
       "    }\n",
       "\n",
       "    .dataframe tbody tr th {\n",
       "        vertical-align: top;\n",
       "    }\n",
       "\n",
       "    .dataframe thead th {\n",
       "        text-align: right;\n",
       "    }\n",
       "</style>\n",
       "<table border=\"1\" class=\"dataframe\">\n",
       "  <thead>\n",
       "    <tr style=\"text-align: right;\">\n",
       "      <th></th>\n",
       "      <th>Topic Number</th>\n",
       "      <th>Top Words</th>\n",
       "    </tr>\n",
       "  </thead>\n",
       "  <tbody>\n",
       "    <tr>\n",
       "      <th>0</th>\n",
       "      <td>0</td>\n",
       "      <td>[potato, late, blight, control, gene, using, phytophthora, infestans, 3, cloning]</td>\n",
       "    </tr>\n",
       "    <tr>\n",
       "      <th>1</th>\n",
       "      <td>1</td>\n",
       "      <td>[late, blight, tomato, potato, confirmed, rt, plants, found, growers, disease]</td>\n",
       "    </tr>\n",
       "    <tr>\n",
       "      <th>2</th>\n",
       "      <td>2</td>\n",
       "      <td>[infestans, phytophthora, de, resistance, relation, bary, potatoes, potato, tubers, behaviour]</td>\n",
       "    </tr>\n",
       "    <tr>\n",
       "      <th>3</th>\n",
       "      <td>3</td>\n",
       "      <td>[late, potato, blight, disease, gene, model, caused, control, tomato, wins]</td>\n",
       "    </tr>\n",
       "    <tr>\n",
       "      <th>4</th>\n",
       "      <td>4</td>\n",
       "      <td>[infestans, phytophthora, potato, plants, content, relation, carbohydrate, reaction, tuber, susc...</td>\n",
       "    </tr>\n",
       "    <tr>\n",
       "      <th>5</th>\n",
       "      <td>5</td>\n",
       "      <td>[potato, late, blight, disease, serious, farmers, well, agriculture, education, studets]</td>\n",
       "    </tr>\n",
       "    <tr>\n",
       "      <th>6</th>\n",
       "      <td>6</td>\n",
       "      <td>[infestans, phytophthora, resistance, potatoes, dna, involvement, invasion, factors, field, spec...</td>\n",
       "    </tr>\n",
       "    <tr>\n",
       "      <th>7</th>\n",
       "      <td>7</td>\n",
       "      <td>[de, potato, areas, late, blight, infestans, epidemiology, producer, mont, la]</td>\n",
       "    </tr>\n",
       "    <tr>\n",
       "      <th>8</th>\n",
       "      <td>8</td>\n",
       "      <td>[potato, phytophthora, irish, infestans, famine, caused, blight, late, disease, rt]</td>\n",
       "    </tr>\n",
       "    <tr>\n",
       "      <th>9</th>\n",
       "      <td>9</td>\n",
       "      <td>[potato, late, blight, new, farmers, resistance, resistant, variety, disease, genes]</td>\n",
       "    </tr>\n",
       "    <tr>\n",
       "      <th>10</th>\n",
       "      <td>10</td>\n",
       "      <td>[phytophthora, infestans, potato, late, effector, particularly, managing, tips, protein, oak]</td>\n",
       "    </tr>\n",
       "    <tr>\n",
       "      <th>11</th>\n",
       "      <td>11</td>\n",
       "      <td>[late, blight, phytophthora, potato, resistance, infestans, genes, wild, caused, came]</td>\n",
       "    </tr>\n",
       "    <tr>\n",
       "      <th>12</th>\n",
       "      <td>12</td>\n",
       "      <td>[late, potato, blight, resistance, tomato, resistant, new, gm, varieties, field]</td>\n",
       "    </tr>\n",
       "    <tr>\n",
       "      <th>13</th>\n",
       "      <td>13</td>\n",
       "      <td>[effect, potato, phytophthora, viruses, reaction, changes, mechanism, characteristic, elements, ...</td>\n",
       "    </tr>\n",
       "    <tr>\n",
       "      <th>14</th>\n",
       "      <td>14</td>\n",
       "      <td>[infestans, phytophthora, plant, population, new, host, p, pathogen, populations, isolates]</td>\n",
       "    </tr>\n",
       "    <tr>\n",
       "      <th>15</th>\n",
       "      <td>15</td>\n",
       "      <td>[late, blight, tomato, infestans, phytophthora, rxlr, diseases, potato, early, plant]</td>\n",
       "    </tr>\n",
       "    <tr>\n",
       "      <th>16</th>\n",
       "      <td>16</td>\n",
       "      <td>[late, blight, potato, resistance, field, estimating, general, ability, parents, combining]</td>\n",
       "    </tr>\n",
       "    <tr>\n",
       "      <th>17</th>\n",
       "      <td>17</td>\n",
       "      <td>[phytophthora, distribution, metabolism, sterols, uptake, intracellular, unmanned, cropdocnet, a...</td>\n",
       "    </tr>\n",
       "    <tr>\n",
       "      <th>18</th>\n",
       "      <td>18</td>\n",
       "      <td>[infestans, phytophthora, resistant, dependent, antibiotics, mutants, oomycete, promoter, novel,...</td>\n",
       "    </tr>\n",
       "    <tr>\n",
       "      <th>19</th>\n",
       "      <td>19</td>\n",
       "      <td>[phytophthora, infestans, structural, diploidy, chromosomal, hybridity, development, intercroppi...</td>\n",
       "    </tr>\n",
       "  </tbody>\n",
       "</table>\n",
       "</div>"
      ],
      "text/plain": [
       "    Topic Number  \\\n",
       "0              0   \n",
       "1              1   \n",
       "2              2   \n",
       "3              3   \n",
       "4              4   \n",
       "5              5   \n",
       "6              6   \n",
       "7              7   \n",
       "8              8   \n",
       "9              9   \n",
       "10            10   \n",
       "11            11   \n",
       "12            12   \n",
       "13            13   \n",
       "14            14   \n",
       "15            15   \n",
       "16            16   \n",
       "17            17   \n",
       "18            18   \n",
       "19            19   \n",
       "\n",
       "                                                                                              Top Words  \n",
       "0                     [potato, late, blight, control, gene, using, phytophthora, infestans, 3, cloning]  \n",
       "1                        [late, blight, tomato, potato, confirmed, rt, plants, found, growers, disease]  \n",
       "2        [infestans, phytophthora, de, resistance, relation, bary, potatoes, potato, tubers, behaviour]  \n",
       "3                           [late, potato, blight, disease, gene, model, caused, control, tomato, wins]  \n",
       "4   [infestans, phytophthora, potato, plants, content, relation, carbohydrate, reaction, tuber, susc...  \n",
       "5              [potato, late, blight, disease, serious, farmers, well, agriculture, education, studets]  \n",
       "6   [infestans, phytophthora, resistance, potatoes, dna, involvement, invasion, factors, field, spec...  \n",
       "7                        [de, potato, areas, late, blight, infestans, epidemiology, producer, mont, la]  \n",
       "8                   [potato, phytophthora, irish, infestans, famine, caused, blight, late, disease, rt]  \n",
       "9                  [potato, late, blight, new, farmers, resistance, resistant, variety, disease, genes]  \n",
       "10        [phytophthora, infestans, potato, late, effector, particularly, managing, tips, protein, oak]  \n",
       "11               [late, blight, phytophthora, potato, resistance, infestans, genes, wild, caused, came]  \n",
       "12                     [late, potato, blight, resistance, tomato, resistant, new, gm, varieties, field]  \n",
       "13  [effect, potato, phytophthora, viruses, reaction, changes, mechanism, characteristic, elements, ...  \n",
       "14          [infestans, phytophthora, plant, population, new, host, p, pathogen, populations, isolates]  \n",
       "15                [late, blight, tomato, infestans, phytophthora, rxlr, diseases, potato, early, plant]  \n",
       "16          [late, blight, potato, resistance, field, estimating, general, ability, parents, combining]  \n",
       "17  [phytophthora, distribution, metabolism, sterols, uptake, intracellular, unmanned, cropdocnet, a...  \n",
       "18  [infestans, phytophthora, resistant, dependent, antibiotics, mutants, oomycete, promoter, novel,...  \n",
       "19  [phytophthora, infestans, structural, diploidy, chromosomal, hybridity, development, intercroppi...  "
      ]
     },
     "execution_count": 15,
     "metadata": {},
     "output_type": "execute_result"
    }
   ],
   "source": [
    "# Look at the topics\n",
    "topic_table\n"
   ]
  },
  {
   "cell_type": "markdown",
   "metadata": {},
   "source": [
    "#### Keyword search"
   ]
  },
  {
   "cell_type": "code",
   "execution_count": 6,
   "metadata": {},
   "outputs": [],
   "source": [
    "from text_analysis.data_functions import keyword_search"
   ]
  },
  {
   "cell_type": "code",
   "execution_count": 7,
   "metadata": {},
   "outputs": [],
   "source": [
    "keywords_of_interest = [\"famine\", \"hunger\", \"hungry\", \"shortage\", \"starv\"]"
   ]
  },
  {
   "cell_type": "code",
   "execution_count": 8,
   "metadata": {},
   "outputs": [
    {
     "data": {
      "text/html": [
       "<div>\n",
       "<style scoped>\n",
       "    .dataframe tbody tr th:only-of-type {\n",
       "        vertical-align: middle;\n",
       "    }\n",
       "\n",
       "    .dataframe tbody tr th {\n",
       "        vertical-align: top;\n",
       "    }\n",
       "\n",
       "    .dataframe thead th {\n",
       "        text-align: right;\n",
       "    }\n",
       "</style>\n",
       "<table border=\"1\" class=\"dataframe\">\n",
       "  <thead>\n",
       "    <tr style=\"text-align: right;\">\n",
       "      <th></th>\n",
       "      <th>Text</th>\n",
       "      <th>Keywords Found</th>\n",
       "    </tr>\n",
       "  </thead>\n",
       "  <tbody>\n",
       "    <tr>\n",
       "      <th>10</th>\n",
       "      <td>@steezthemeans I'm confused the potato famine in Ireland was caused by a fungus called Phytophth...</td>\n",
       "      <td>True</td>\n",
       "    </tr>\n",
       "    <tr>\n",
       "      <th>23</th>\n",
       "      <td>Jean Ristaino, a lead investigator for the @NC_PSI, found original famine-era plant samples and ...</td>\n",
       "      <td>True</td>\n",
       "    </tr>\n",
       "    <tr>\n",
       "      <th>39</th>\n",
       "      <td>Irish Potato Famine: Crop Failure Decimates Ireland's Population - As potato crops failed in 184...</td>\n",
       "      <td>True</td>\n",
       "    </tr>\n",
       "    <tr>\n",
       "      <th>50</th>\n",
       "      <td>Just learned about the Irish potato famine, it's crazy that potato blight caused that much of a ...</td>\n",
       "      <td>True</td>\n",
       "    </tr>\n",
       "    <tr>\n",
       "      <th>58</th>\n",
       "      <td>@Ken47188750 @FiatLuxGenesis I'm not saying Phytophthora infestans was made in a bio lab, but on...</td>\n",
       "      <td>True</td>\n",
       "    </tr>\n",
       "    <tr>\n",
       "      <th>...</th>\n",
       "      <td>...</td>\n",
       "      <td>...</td>\n",
       "    </tr>\n",
       "    <tr>\n",
       "      <th>16870</th>\n",
       "      <td>RT @mcmgmd: Information on late blight from the USDA. This is the disease which caused the Irish...</td>\n",
       "      <td>True</td>\n",
       "    </tr>\n",
       "    <tr>\n",
       "      <th>16872</th>\n",
       "      <td>Information on late blight from the USDA. This is the disease which caused the Irish potato fami...</td>\n",
       "      <td>True</td>\n",
       "    </tr>\n",
       "    <tr>\n",
       "      <th>16904</th>\n",
       "      <td>The potato disease \"late blight\" was the principal cause of the Irish potato famine, which kille...</td>\n",
       "      <td>True</td>\n",
       "    </tr>\n",
       "    <tr>\n",
       "      <th>16910</th>\n",
       "      <td>Lumpers Variety very susceptible to late blight disease, dates back to the 1850's,cause of the p...</td>\n",
       "      <td>True</td>\n",
       "    </tr>\n",
       "    <tr>\n",
       "      <th>16911</th>\n",
       "      <td>The potato disease \"late blight\" was the principal cause of the Irish potato famine, which kille...</td>\n",
       "      <td>True</td>\n",
       "    </tr>\n",
       "  </tbody>\n",
       "</table>\n",
       "<p>396 rows × 2 columns</p>\n",
       "</div>"
      ],
      "text/plain": [
       "                                                                                                      Text  \\\n",
       "10     @steezthemeans I'm confused the potato famine in Ireland was caused by a fungus called Phytophth...   \n",
       "23     Jean Ristaino, a lead investigator for the @NC_PSI, found original famine-era plant samples and ...   \n",
       "39     Irish Potato Famine: Crop Failure Decimates Ireland's Population - As potato crops failed in 184...   \n",
       "50     Just learned about the Irish potato famine, it's crazy that potato blight caused that much of a ...   \n",
       "58     @Ken47188750 @FiatLuxGenesis I'm not saying Phytophthora infestans was made in a bio lab, but on...   \n",
       "...                                                                                                    ...   \n",
       "16870  RT @mcmgmd: Information on late blight from the USDA. This is the disease which caused the Irish...   \n",
       "16872  Information on late blight from the USDA. This is the disease which caused the Irish potato fami...   \n",
       "16904  The potato disease \"late blight\" was the principal cause of the Irish potato famine, which kille...   \n",
       "16910  Lumpers Variety very susceptible to late blight disease, dates back to the 1850's,cause of the p...   \n",
       "16911  The potato disease \"late blight\" was the principal cause of the Irish potato famine, which kille...   \n",
       "\n",
       "       Keywords Found  \n",
       "10               True  \n",
       "23               True  \n",
       "39               True  \n",
       "50               True  \n",
       "58               True  \n",
       "...               ...  \n",
       "16870            True  \n",
       "16872            True  \n",
       "16904            True  \n",
       "16910            True  \n",
       "16911            True  \n",
       "\n",
       "[396 rows x 2 columns]"
      ]
     },
     "execution_count": 8,
     "metadata": {},
     "output_type": "execute_result"
    }
   ],
   "source": [
    "# Search for the keywords\n",
    "\n",
    "keyword_search(text_corpus, keywords_of_interest)"
   ]
  },
  {
   "cell_type": "code",
   "execution_count": null,
   "metadata": {},
   "outputs": [],
   "source": []
  }
 ],
 "metadata": {
  "kernelspec": {
   "display_name": "NLP",
   "language": "python",
   "name": "python3"
  },
  "language_info": {
   "codemirror_mode": {
    "name": "ipython",
    "version": 3
   },
   "file_extension": ".py",
   "mimetype": "text/x-python",
   "name": "python",
   "nbconvert_exporter": "python",
   "pygments_lexer": "ipython3",
   "version": "3.10.9"
  }
 },
 "nbformat": 4,
 "nbformat_minor": 2
}
